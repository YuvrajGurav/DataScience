{
 "cells": [
  {
   "cell_type": "markdown",
   "id": "f44349d7",
   "metadata": {},
   "source": [
    "1. What is the role of the 'else' block in a try-except statement? Provide an example\n",
    "scenario where it would be useful."
   ]
  },
  {
   "cell_type": "markdown",
   "id": "e779f271",
   "metadata": {},
   "source": [
    "In a try-except statement in Python, the else block is optional and is executed only if the code in the try block does not raise any exceptions. It allows you to specify a block of code to be executed when no exceptions occur.\n",
    "\n",
    "Here's an example to explain the usage of the else block:"
   ]
  },
  {
   "cell_type": "code",
   "execution_count": 1,
   "id": "7d80462d",
   "metadata": {},
   "outputs": [
    {
     "name": "stdout",
     "output_type": "stream",
     "text": [
      "The result of 10 divided by 2 is: 5.0\n",
      "Error: Division by zero!\n"
     ]
    }
   ],
   "source": [
    "def divide_numbers(a, b):\n",
    "    try:\n",
    "        result = a / b\n",
    "    except ZeroDivisionError:\n",
    "        print(\"Error: Division by zero!\")\n",
    "    else:\n",
    "        print(f\"The result of {a} divided by {b} is: {result}\")\n",
    "\n",
    "# Example 1: No exception\n",
    "divide_numbers(10, 2)  # Output: The result of 10 divided by 2 is: 5.0\n",
    "\n",
    "# Example 2: Handling an exception\n",
    "divide_numbers(10, 0)  # Output: Error: Division by zero!"
   ]
  },
  {
   "cell_type": "markdown",
   "id": "842a96d9",
   "metadata": {},
   "source": [
    "2. Can a try-except block be nested inside another try-except block? Explain with an\n",
    "example."
   ]
  },
  {
   "cell_type": "markdown",
   "id": "ae599205",
   "metadata": {},
   "source": [
    "Yes, a try-except block can be nested inside another try-except block. This allows you to handle different types of exceptions at different levels of your code. Each nested try block can have its own except block to handle specific exceptions, providing a more fine-grained control over error handling.\n",
    "\n",
    "Here's an example to explain nested try-except blocks:"
   ]
  },
  {
   "cell_type": "code",
   "execution_count": 2,
   "id": "4ac4a7d1",
   "metadata": {},
   "outputs": [
    {
     "name": "stdout",
     "output_type": "stream",
     "text": [
      "Intermediate result: 5.0\n",
      "Value from the list: 3\n",
      "Error: Division by zero in the outer try-except block\n"
     ]
    }
   ],
   "source": [
    "def nested_example(a, b):\n",
    "    try:\n",
    "        result = a / b\n",
    "        print(f\"Intermediate result: {result}\")\n",
    "\n",
    "        try:\n",
    "            # Attempting to access an element in a list\n",
    "            value = [1, 2, 3][b]\n",
    "            print(f\"Value from the list: {value}\")\n",
    "\n",
    "        except IndexError:\n",
    "            print(\"Error: Index out of range in the inner try-except block\")\n",
    "\n",
    "    except ZeroDivisionError:\n",
    "        print(\"Error: Division by zero in the outer try-except block\")\n",
    "\n",
    "# Example 1: No exceptions\n",
    "nested_example(10, 2)\n",
    "# Output:\n",
    "# Intermediate result: 5.0\n",
    "# Value from the list: 3\n",
    "\n",
    "# Example 2: Handling a ZeroDivisionError\n",
    "nested_example(10, 0)\n",
    "# Output:\n",
    "# Error: Division by zero in the outer try-except block"
   ]
  },
  {
   "cell_type": "markdown",
   "id": "62b1239d",
   "metadata": {},
   "source": [
    "3. How can you create a custom exception class in Python? Provide an example that\n",
    "demonstrates its usage."
   ]
  },
  {
   "cell_type": "markdown",
   "id": "8d5d40bc",
   "metadata": {},
   "source": [
    "In Python, we can create a custom exception class by defining a new class that inherits from the built-in Exception class or one of its subclasses. This allows you to define your own exceptions with custom behavior and attributes. Here's an example:"
   ]
  },
  {
   "cell_type": "code",
   "execution_count": 3,
   "id": "5fda2a70",
   "metadata": {},
   "outputs": [
    {
     "name": "stdout",
     "output_type": "stream",
     "text": [
      "The value is: 42\n",
      "Custom Error: Input value should be non-negative\n"
     ]
    }
   ],
   "source": [
    "class CustomError(Exception):\n",
    "    def __init__(self, message=\"A custom error occurred\"):\n",
    "        self.message = message\n",
    "        super().__init__(self.message)\n",
    "\n",
    "# Example usage of the custom exception\n",
    "def example_function(value):\n",
    "    try:\n",
    "        if value < 0:\n",
    "            raise CustomError(\"Input value should be non-negative\")\n",
    "        else:\n",
    "            print(f\"The value is: {value}\")\n",
    "\n",
    "    except CustomError as ce:\n",
    "        print(f\"Custom Error: {ce}\")\n",
    "\n",
    "# Example 1: No exception\n",
    "example_function(42)\n",
    "# Output: The value is: 42\n",
    "\n",
    "# Example 2: Handling the custom exception\n",
    "example_function(-5)\n",
    "# Output: Custom Error: Input value should be non-negative"
   ]
  },
  {
   "cell_type": "markdown",
   "id": "e18a68ac",
   "metadata": {},
   "source": [
    "4. What are some common exceptions that are built-in to Python?"
   ]
  },
  {
   "cell_type": "code",
   "execution_count": 5,
   "id": "95bb95ef",
   "metadata": {},
   "outputs": [
    {
     "ename": "SyntaxError",
     "evalue": "incomplete input (2122888682.py, line 3)",
     "output_type": "error",
     "traceback": [
      "\u001b[1;36m  Cell \u001b[1;32mIn[5], line 3\u001b[1;36m\u001b[0m\n\u001b[1;33m    print(\"Hello\"  # Missing closing parenthesis\u001b[0m\n\u001b[1;37m                                                ^\u001b[0m\n\u001b[1;31mSyntaxError\u001b[0m\u001b[1;31m:\u001b[0m incomplete input\n"
     ]
    }
   ],
   "source": [
    "#SyntaxError: Raised when there is a syntax error in the code.\n",
    "#Example SyntaxError\n",
    "print(\"Hello\"  # Missing closing parenthesis"
   ]
  },
  {
   "cell_type": "code",
   "execution_count": 6,
   "id": "cb19e121",
   "metadata": {},
   "outputs": [
    {
     "ename": "IndentationError",
     "evalue": "expected an indented block after 'if' statement on line 3 (3137736690.py, line 4)",
     "output_type": "error",
     "traceback": [
      "\u001b[1;36m  Cell \u001b[1;32mIn[6], line 4\u001b[1;36m\u001b[0m\n\u001b[1;33m    print(\"Indented incorrectly\")  # Missing indentation\u001b[0m\n\u001b[1;37m    ^\u001b[0m\n\u001b[1;31mIndentationError\u001b[0m\u001b[1;31m:\u001b[0m expected an indented block after 'if' statement on line 3\n"
     ]
    }
   ],
   "source": [
    "#IndentationError: Raised when there is an incorrect indentation.\n",
    "# Example IndentationError\n",
    "if True:\n",
    "print(\"Indented incorrectly\")  # Missing indentation"
   ]
  },
  {
   "cell_type": "code",
   "execution_count": 8,
   "id": "333f4cbe",
   "metadata": {},
   "outputs": [
    {
     "ename": "TypeError",
     "evalue": "can only concatenate str (not \"int\") to str",
     "output_type": "error",
     "traceback": [
      "\u001b[1;31m---------------------------------------------------------------------------\u001b[0m",
      "\u001b[1;31mTypeError\u001b[0m                                 Traceback (most recent call last)",
      "Cell \u001b[1;32mIn[8], line 3\u001b[0m\n\u001b[0;32m      1\u001b[0m \u001b[38;5;66;03m#TypeError: Raised when an operation or function is applied to an object of an inappropriate type.\u001b[39;00m\n\u001b[0;32m      2\u001b[0m \u001b[38;5;66;03m# Example TypeError\u001b[39;00m\n\u001b[1;32m----> 3\u001b[0m result \u001b[38;5;241m=\u001b[39m \u001b[38;5;124;43m\"\u001b[39;49m\u001b[38;5;124;43m5\u001b[39;49m\u001b[38;5;124;43m\"\u001b[39;49m\u001b[43m \u001b[49m\u001b[38;5;241;43m+\u001b[39;49m\u001b[43m \u001b[49m\u001b[38;5;241;43m3\u001b[39;49m\n",
      "\u001b[1;31mTypeError\u001b[0m: can only concatenate str (not \"int\") to str"
     ]
    }
   ],
   "source": [
    "#TypeError: Raised when an operation or function is applied to an object of an inappropriate type.\n",
    "# Example TypeError\n",
    "result = \"5\" + 3  # Attempting to concatenate string and integer"
   ]
  },
  {
   "cell_type": "markdown",
   "id": "0b688ad6",
   "metadata": {},
   "source": [
    "5. What is logging in Python, and why is it important in software development?"
   ]
  },
  {
   "cell_type": "markdown",
   "id": "2951afe4",
   "metadata": {},
   "source": [
    "Logging in Python refers to the process of recording messages, warnings, errors, and other information generated during the execution of a program. The logging module in Python provides a flexible and configurable framework for emitting log messages from programs.\n",
    "\n",
    "Logging provides a standardized way to handle messages and allows developers to control the verbosity of the output based on the application's needs."
   ]
  },
  {
   "cell_type": "markdown",
   "id": "2ad57945",
   "metadata": {},
   "source": [
    "6. Explain the purpose of log levels in Python logging and provide examples of when\n",
    "each log level would be appropriate."
   ]
  },
  {
   "cell_type": "markdown",
   "id": "95d45630",
   "metadata": {},
   "source": [
    "Log levels in Python logging represent different levels of severity for log messages. They allow developers to control the verbosity of the log output by categorizing messages based on their importance. The primary log levels, in increasing order of severity, are:\n",
    "\n",
    "DEBUG: Used for detailed information during development and debugging. It might include variable values, function calls, or other specifics that help developers understand the program's behavior.\n",
    "\n",
    "INFO: Used for general information about the program's execution, such as startup messages, configuration details, or high-level progress indicators.\n",
    "\n",
    "WARNING: Used to indicate potential issues or situations that might lead to problems in the future. For example, deprecation warnings, resource usage warnings, etc.\n",
    "\n",
    "ERROR: Used to report errors that occur during the program's execution but don't necessarily lead to its termination. It indicates a problem that needs investigation.\n",
    "\n",
    "CRITICAL: Used for severe errors that lead to the program's termination. These are critical failures that require immediate attention and intervention."
   ]
  },
  {
   "cell_type": "markdown",
   "id": "c469a1bb",
   "metadata": {},
   "source": [
    "7. What are log formatters in Python logging, and how can you customise the log\n",
    "message format using formatters?"
   ]
  },
  {
   "cell_type": "markdown",
   "id": "7d146ede",
   "metadata": {},
   "source": [
    "In Python logging, a log formatter is responsible for specifying the layout and content of log messages. It allows developers to customize how log records are presented in the log output. Formatters are associated with handlers, and each handler can have its own formatter.\n",
    "\n",
    "The logging module provides a Formatter class that you can use to create custom log message formats. The Formatter class allows you to include various attributes of the log record, such as the timestamp, log level, logger name, and the actual log message, in a specific format.\n",
    "\n",
    "Here's a simple example of how to use a custom log formatter:"
   ]
  },
  {
   "cell_type": "code",
   "execution_count": 9,
   "id": "a98d249a",
   "metadata": {},
   "outputs": [
    {
     "name": "stderr",
     "output_type": "stream",
     "text": [
      "2024-02-04 21:44:35,400 - DEBUG - This is a debug message\n",
      "2024-02-04 21:44:35,402 - INFO - This is an info message\n",
      "2024-02-04 21:44:35,404 - WARNING - This is a warning message\n"
     ]
    }
   ],
   "source": [
    "import logging\n",
    "\n",
    "# Create a custom formatter\n",
    "formatter = logging.Formatter('%(asctime)s - %(levelname)s - %(message)s')\n",
    "\n",
    "# Create a handler and set the formatter\n",
    "handler = logging.StreamHandler()\n",
    "handler.setFormatter(formatter)\n",
    "\n",
    "# Create a logger, add the handler, and set the logging level\n",
    "logger = logging.getLogger(__name__)\n",
    "logger.addHandler(handler)\n",
    "logger.setLevel(logging.DEBUG)\n",
    "\n",
    "# Log messages\n",
    "logger.debug('This is a debug message')\n",
    "logger.info('This is an info message')\n",
    "logger.warning('This is a warning message')\n"
   ]
  },
  {
   "cell_type": "markdown",
   "id": "3a0eed4e",
   "metadata": {},
   "source": [
    "8. How can you set up logging to capture log messages from multiple modules or\n",
    "classes in a Python application?"
   ]
  },
  {
   "cell_type": "markdown",
   "id": "eac1983a",
   "metadata": {},
   "source": [
    "Setting up logging to capture log messages from multiple modules or classes in a Python application involves creating a consistent logging configuration across the entire application."
   ]
  },
  {
   "cell_type": "markdown",
   "id": "a3db9e4f",
   "metadata": {},
   "source": [
    "Configure Logging in a Centralized Location:\n",
    "Create a centralized configuration for logging in a module that is imported by all other modules or at the entry point of your application. This module might be named something like logging_config.py:"
   ]
  },
  {
   "cell_type": "code",
   "execution_count": 10,
   "id": "470ef13a",
   "metadata": {},
   "outputs": [],
   "source": [
    "# logging_config.py\n",
    "\n",
    "import logging\n",
    "\n",
    "# Create a custom formatter\n",
    "formatter = logging.Formatter('%(asctime)s - %(levelname)s - %(name)s - %(message)s')\n",
    "\n",
    "# Create a StreamHandler with the custom formatter\n",
    "handler = logging.StreamHandler()\n",
    "handler.setFormatter(formatter)\n",
    "\n",
    "# Create a root logger and add the handler\n",
    "root_logger = logging.getLogger()\n",
    "root_logger.addHandler(handler)\n",
    "root_logger.setLevel(logging.DEBUG)"
   ]
  },
  {
   "cell_type": "markdown",
   "id": "5b22c2c6",
   "metadata": {},
   "source": [
    "Use Named Loggers in Each Module/Class:\n",
    "In each module or class where you want to log messages, use a named logger by getting it using the getLogger method. The logger name should typically be the name of the module or class:"
   ]
  },
  {
   "cell_type": "code",
   "execution_count": 11,
   "id": "dc4d3b99",
   "metadata": {},
   "outputs": [],
   "source": [
    "# module1.py\n",
    "\n",
    "import logging\n",
    "logger = logging.getLogger(__name__)\n",
    "\n",
    "def some_function():\n",
    "    logger.info('This is a log message from module1')"
   ]
  },
  {
   "cell_type": "markdown",
   "id": "1d49cc6e",
   "metadata": {},
   "source": [
    "Use the Logging Configuration Module:\n",
    "Import the centralized logging configuration module at the beginning of your application or script:"
   ]
  },
  {
   "cell_type": "code",
   "execution_count": 14,
   "id": "f691505e",
   "metadata": {},
   "outputs": [
    {
     "ename": "ModuleNotFoundError",
     "evalue": "No module named 'logging_config'",
     "output_type": "error",
     "traceback": [
      "\u001b[1;31m---------------------------------------------------------------------------\u001b[0m",
      "\u001b[1;31mModuleNotFoundError\u001b[0m                       Traceback (most recent call last)",
      "Cell \u001b[1;32mIn[14], line 3\u001b[0m\n\u001b[0;32m      1\u001b[0m \u001b[38;5;66;03m# main.py\u001b[39;00m\n\u001b[1;32m----> 3\u001b[0m \u001b[38;5;28;01mimport\u001b[39;00m \u001b[38;5;21;01mlogging_config\u001b[39;00m  \u001b[38;5;66;03m# Import the logging configuration\u001b[39;00m\n\u001b[0;32m      5\u001b[0m \u001b[38;5;28;01mfrom\u001b[39;00m \u001b[38;5;21;01mmodule1\u001b[39;00m \u001b[38;5;28;01mimport\u001b[39;00m some_function\n\u001b[0;32m      6\u001b[0m \u001b[38;5;28;01mfrom\u001b[39;00m \u001b[38;5;21;01mmodule2\u001b[39;00m \u001b[38;5;28;01mimport\u001b[39;00m another_function\n",
      "\u001b[1;31mModuleNotFoundError\u001b[0m: No module named 'logging_config'"
     ]
    }
   ],
   "source": [
    "# main.py\n",
    "\n",
    "import logging_config  # Import the logging configuration\n",
    "\n",
    "from module1 import some_function\n",
    "from module2 import another_function\n",
    "\n",
    "some_function()\n",
    "another_function()"
   ]
  },
  {
   "cell_type": "markdown",
   "id": "26683e23",
   "metadata": {},
   "source": [
    "9. What is the difference between the logging and print statements in Python? When\n",
    "should you use logging over print statements in a real-world application?"
   ]
  },
  {
   "cell_type": "markdown",
   "id": "6f20fc72",
   "metadata": {},
   "source": [
    "Logging:\n",
    "Logging is primarily used for debugging, monitoring, and understanding the flow of a program in different environments, such as development, testing, and production. aslo Logging provides a systematic way to record events, errors, and information about the program's execution.\n",
    "\n",
    "Print Statements:\n",
    "Print statements are used for quick and temporary output during development. also Print statements are often used for simple debugging to inspect variable values and check the flow of the program.\n",
    "\n",
    "In real-world applications, logging is preferred over print statements. Logging provides a more structured and configurable way to handle output, making it easier to manage, analyze, and troubleshoot the application"
   ]
  },
  {
   "cell_type": "markdown",
   "id": "3f4ab65e",
   "metadata": {},
   "source": [
    "10. Write a Python program that logs a message to a file named \"app.log\" with the\n",
    "following requirements:\n",
    "● The log message should be \"Hello, World!\"\n",
    "● The log level should be set to \"INFO.\"\n",
    "● The log file should append new log entries without overwriting previous ones."
   ]
  },
  {
   "cell_type": "code",
   "execution_count": 16,
   "id": "6e68d2a8",
   "metadata": {},
   "outputs": [
    {
     "name": "stderr",
     "output_type": "stream",
     "text": [
      "2024-02-04 21:54:41,183 - INFO - root - Hello, World!\n"
     ]
    }
   ],
   "source": [
    "import logging\n",
    "\n",
    "# Configure logging to write to a file\n",
    "logging.basicConfig(filename='app.log',level=logging.INFO,format='%(asctime)s - %(levelname)s - %(message)s',)\n",
    "\n",
    "# Log the \"Hello, World!\" message with INFO level\n",
    "logging.info('Hello, World!')"
   ]
  },
  {
   "cell_type": "markdown",
   "id": "dad5b6f2",
   "metadata": {},
   "source": [
    "11. Create a Python program that logs an error message to the console and a file named\n",
    "\"errors.log\" if an exception occurs during the program's execution. The error\n",
    "message should include the exception type and a timestamp."
   ]
  },
  {
   "cell_type": "code",
   "execution_count": 17,
   "id": "2ec3d2af",
   "metadata": {},
   "outputs": [
    {
     "name": "stderr",
     "output_type": "stream",
     "text": [
      "2024-02-04 21:56:20,102 - ERROR - Exception: ZeroDivisionError, Timestamp: 2024-02-04 21:56:20\n",
      "2024-02-04 21:56:20,102 - ERROR - Exception: ZeroDivisionError, Timestamp: 2024-02-04 21:56:20\n",
      "2024-02-04 21:56:20,102 - ERROR - __main__ - Exception: ZeroDivisionError, Timestamp: 2024-02-04 21:56:20\n",
      "2024-02-04 21:56:20,110 - ERROR - Traceback:\n",
      "Traceback (most recent call last):\n",
      "  File \"C:\\Users\\Yuvraj\\AppData\\Local\\Temp\\ipykernel_20064\\629572014.py\", line 27, in <module>\n",
      "    result = 10 / 0\n",
      "ZeroDivisionError: division by zero\n",
      "\n",
      "2024-02-04 21:56:20,110 - ERROR - Traceback:\n",
      "Traceback (most recent call last):\n",
      "  File \"C:\\Users\\Yuvraj\\AppData\\Local\\Temp\\ipykernel_20064\\629572014.py\", line 27, in <module>\n",
      "    result = 10 / 0\n",
      "ZeroDivisionError: division by zero\n",
      "\n",
      "2024-02-04 21:56:20,110 - ERROR - __main__ - Traceback:\n",
      "Traceback (most recent call last):\n",
      "  File \"C:\\Users\\Yuvraj\\AppData\\Local\\Temp\\ipykernel_20064\\629572014.py\", line 27, in <module>\n",
      "    result = 10 / 0\n",
      "ZeroDivisionError: division by zero\n",
      "\n"
     ]
    }
   ],
   "source": [
    "import logging\n",
    "import traceback\n",
    "from datetime import datetime\n",
    "\n",
    "# Configure logging to write to the console\n",
    "console_handler = logging.StreamHandler()\n",
    "console_handler.setLevel(logging.ERROR)\n",
    "\n",
    "# Configure logging to write to a file\n",
    "file_handler = logging.FileHandler('errors.log')\n",
    "file_handler.setLevel(logging.ERROR)\n",
    "\n",
    "# Create a custom formatter for the log message\n",
    "formatter = logging.Formatter('%(asctime)s - %(levelname)s - %(message)s')\n",
    "\n",
    "# Set the formatter for both handlers\n",
    "console_handler.setFormatter(formatter)\n",
    "file_handler.setFormatter(formatter)\n",
    "\n",
    "# Create a logger and add the handlers\n",
    "logger = logging.getLogger(__name__)\n",
    "logger.addHandler(console_handler)\n",
    "logger.addHandler(file_handler)\n",
    "\n",
    "try:\n",
    "    # Simulate an exception (divide by zero)\n",
    "    result = 10 / 0\n",
    "\n",
    "except Exception as e:\n",
    "    # Log the exception with timestamp\n",
    "    timestamp = datetime.now().strftime('%Y-%m-%d %H:%M:%S')\n",
    "    error_message = f\"Exception: {type(e).__name__}, Timestamp: {timestamp}\"\n",
    "    logger.error(error_message)\n",
    "\n",
    "    # Optionally, log the full traceback to the file\n",
    "    logger.error(\"Traceback:\\n\" + traceback.format_exc())"
   ]
  }
 ],
 "metadata": {
  "kernelspec": {
   "display_name": "Python 3 (ipykernel)",
   "language": "python",
   "name": "python3"
  },
  "language_info": {
   "codemirror_mode": {
    "name": "ipython",
    "version": 3
   },
   "file_extension": ".py",
   "mimetype": "text/x-python",
   "name": "python",
   "nbconvert_exporter": "python",
   "pygments_lexer": "ipython3",
   "version": "3.10.9"
  }
 },
 "nbformat": 4,
 "nbformat_minor": 5
}
