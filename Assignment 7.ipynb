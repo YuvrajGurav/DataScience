{
 "cells": [
  {
   "cell_type": "raw",
   "id": "f7e70754",
   "metadata": {},
   "source": [
    "Q.1. Create two int type variables, apply addition, subtraction, division and multiplications\n",
    "and store the results in variables. Then print the data in the following format by calling the\n",
    "variables:\n",
    "First variable is __ & second variable is __.\n",
    "Addition: __ + __ = __\n",
    "Subtraction: __ - __ = __\n",
    "Multiplication: __ * __ = __\n",
    "Division: __ / __ = __"
   ]
  },
  {
   "cell_type": "code",
   "execution_count": 15,
   "id": "fdf4bbb8",
   "metadata": {},
   "outputs": [
    {
     "name": "stdout",
     "output_type": "stream",
     "text": [
      "First variable is 10 & second variable is 20\n",
      "Addition: 10 + 20 = 30\n",
      "Subtraction: 10 - 20 = -10\n",
      "Multiplication: 10 * 20 = 200\n",
      "Division: 10 / 20 = 0.5\n"
     ]
    }
   ],
   "source": [
    "# Creating two int variables\n",
    "first_variable = 10\n",
    "second_variable = 20\n",
    "# Performing addition, subtraction, multiplication, and division\n",
    "addition = first_variable + second_variable\n",
    "subtraction = first_variable - second_variable\n",
    "multiplication = first_variable * second_variable\n",
    "division = first_variable / second_variable\n",
    "\n",
    "# Printing the data in the requested format\n",
    "# we have used fstring (f\"requested format {variable}\")\n",
    "print(f\"First variable is {first_variable} & second variable is {second_variable}\")\n",
    "print(f\"Addition: {first_variable} + {second_variable} = {addition}\")\n",
    "print(f\"Subtraction: {first_variable} - {second_variable} = {subtraction}\")\n",
    "print(f\"Multiplication: {first_variable} * {second_variable} = {multiplication}\")\n",
    "print(f\"Division: {first_variable} / {second_variable} = {division}\")\n"
   ]
  },
  {
   "cell_type": "markdown",
   "id": "d0cb4e13",
   "metadata": {},
   "source": [
    "Q.2. What is the difference between the following operators:\n",
    "(i) ‘/’ & ‘//’\n",
    "(ii) ‘**’ & ‘^’"
   ]
  },
  {
   "cell_type": "markdown",
   "id": "f265ed4c",
   "metadata": {},
   "source": [
    "#Ans 2:\n",
    "The / operator performs regular division and returns a floating-point result. For example, 10 / 3 would result in 3.3333333333333335."
   ]
  },
  {
   "cell_type": "code",
   "execution_count": 16,
   "id": "96da7770",
   "metadata": {},
   "outputs": [
    {
     "name": "stdout",
     "output_type": "stream",
     "text": [
      "3.3333333333333335\n"
     ]
    }
   ],
   "source": [
    "a=10/3\n",
    "print(a)"
   ]
  },
  {
   "cell_type": "markdown",
   "id": "2c082112",
   "metadata": {},
   "source": [
    "The // operator performs floor division, also known as integer division. It divides the left operand by the right operand and returns the largest integer less than or equal to the result. For example, 10 // 3 would result in 3"
   ]
  },
  {
   "cell_type": "code",
   "execution_count": 17,
   "id": "905be67b",
   "metadata": {},
   "outputs": [
    {
     "name": "stdout",
     "output_type": "stream",
     "text": [
      "3\n"
     ]
    }
   ],
   "source": [
    "a=10//3\n",
    "print(a)"
   ]
  },
  {
   "cell_type": "markdown",
   "id": "7920a7ac",
   "metadata": {},
   "source": [
    "The ** operator is used for exponentiation. It raises the left operand to the power of the right operand. For example, 2 ** 3 would result in 8."
   ]
  },
  {
   "cell_type": "code",
   "execution_count": 18,
   "id": "3e3a2530",
   "metadata": {},
   "outputs": [
    {
     "data": {
      "text/plain": [
       "8"
      ]
     },
     "execution_count": 18,
     "metadata": {},
     "output_type": "execute_result"
    }
   ],
   "source": [
    "2**3"
   ]
  },
  {
   "cell_type": "markdown",
   "id": "44ca3b57",
   "metadata": {},
   "source": [
    "^ is the bitwise XOR operator"
   ]
  },
  {
   "cell_type": "markdown",
   "id": "80928f37",
   "metadata": {},
   "source": [
    "#binary representation of 5 is 101 and the binary representation of 3 is 011, so the XOR operation yields 110, which is 6 in decimal.\n"
   ]
  },
  {
   "cell_type": "code",
   "execution_count": 19,
   "id": "b3076211",
   "metadata": {},
   "outputs": [
    {
     "data": {
      "text/plain": [
       "6"
      ]
     },
     "execution_count": 19,
     "metadata": {},
     "output_type": "execute_result"
    }
   ],
   "source": [
    "5^3"
   ]
  },
  {
   "cell_type": "markdown",
   "id": "6d7d110a",
   "metadata": {},
   "source": [
    "Q.3. List the logical operators.\n",
    "AND: The and operator returns True if both the operands are True, otherwise it returns False.\n",
    "\n",
    "OR: The or operator returns True if at least one of the operands is True, otherwise it returns False.\n",
    "\n",
    "NOT: The not operator is a unary operator that returns the opposite of the operand's logical value. It returns True if the operand is False, and False if the operand is True.\n"
   ]
  },
  {
   "cell_type": "code",
   "execution_count": 20,
   "id": "9b5c5db7",
   "metadata": {},
   "outputs": [
    {
     "name": "stdout",
     "output_type": "stream",
     "text": [
      "0\n"
     ]
    }
   ],
   "source": [
    "a = 20       \n",
    "b = 10       \n",
    "result = a & b  # result is 0 (in binary: 0000)\n",
    "print(result)"
   ]
  },
  {
   "cell_type": "code",
   "execution_count": 21,
   "id": "522971ab",
   "metadata": {},
   "outputs": [
    {
     "name": "stdout",
     "output_type": "stream",
     "text": [
      "30\n"
     ]
    }
   ],
   "source": [
    "a = 20       \n",
    "b = 10       \n",
    "result = a | b  # result is 0 (in binary: 0000)\n",
    "print(result)"
   ]
  },
  {
   "cell_type": "code",
   "execution_count": 22,
   "id": "da99c4df",
   "metadata": {},
   "outputs": [
    {
     "name": "stdout",
     "output_type": "stream",
     "text": [
      "-11\n"
     ]
    }
   ],
   "source": [
    "a = 10         # in binary: 1010\n",
    "result = ~a    # result is -11 (in binary: -1011)\n",
    "print(result)\n"
   ]
  },
  {
   "cell_type": "code",
   "execution_count": 23,
   "id": "32aa1c3d",
   "metadata": {},
   "outputs": [
    {
     "name": "stdout",
     "output_type": "stream",
     "text": [
      "14\n"
     ]
    }
   ],
   "source": [
    "a = 10       \n",
    "b = 4        \n",
    "result = a ^ b  \n",
    "print(result)\n"
   ]
  },
  {
   "cell_type": "markdown",
   "id": "c7abbbe6",
   "metadata": {},
   "source": [
    "Q.4. Explain right shift operator and left shift operator with examples"
   ]
  },
  {
   "cell_type": "markdown",
   "id": "827f282f",
   "metadata": {},
   "source": [
    "Right Shift Operator (>>):\n",
    "The right shift operator (>>) shifts the bits of the left operand to the right by the number of positions specified by the right operand. Each shift to the right effectively divides the number by 2, discarding the least significant bit."
   ]
  },
  {
   "cell_type": "code",
   "execution_count": 24,
   "id": "1303abf4",
   "metadata": {},
   "outputs": [
    {
     "name": "stdout",
     "output_type": "stream",
     "text": [
      "2\n"
     ]
    }
   ],
   "source": [
    "x = 10  # Binary representation: 1010\n",
    "y = x >> 2  # Shift right by 2 positions\n",
    "\n",
    "print(y)  # Output: 2"
   ]
  },
  {
   "cell_type": "markdown",
   "id": "5ea32578",
   "metadata": {},
   "source": [
    "Left Shift Operator (<<):\n",
    "The left shift operator (<<) shifts the bits of the left operand to the left by the number of positions specified by the right operand. Each shift to the left effectively multiplies the number by 2, adding zeros at the least significant bit."
   ]
  },
  {
   "cell_type": "code",
   "execution_count": 25,
   "id": "938f654c",
   "metadata": {},
   "outputs": [
    {
     "name": "stdout",
     "output_type": "stream",
     "text": [
      "40\n"
     ]
    }
   ],
   "source": [
    "x = 5  # Binary representation: 101\n",
    "y = x << 3  # Shift left by 3 positions\n",
    "\n",
    "print(y)  # Output: 40"
   ]
  },
  {
   "cell_type": "markdown",
   "id": "9e71c72b",
   "metadata": {},
   "source": [
    "Q.5. Create a list containing int type data of length 15. Then write a code to check if 10 is\n",
    "present in the list or not"
   ]
  },
  {
   "cell_type": "code",
   "execution_count": 26,
   "id": "2ee0c353",
   "metadata": {},
   "outputs": [],
   "source": [
    "list = [2, 5, 8, 10, 15, 20, 25, 30, 35, 40, 45, 50, 55, 60, 65]"
   ]
  },
  {
   "cell_type": "code",
   "execution_count": 27,
   "id": "8d58aee1",
   "metadata": {},
   "outputs": [
    {
     "name": "stdout",
     "output_type": "stream",
     "text": [
      "10 is present in the list.\n"
     ]
    }
   ],
   "source": [
    "# Check if 10 is present in the list\n",
    "if 10 in list:\n",
    "    print(\"10 is present in the list.\")\n",
    "else:\n",
    "    print(\"10 is not present in the list.\")"
   ]
  }
 ],
 "metadata": {
  "kernelspec": {
   "display_name": "Python 3 (ipykernel)",
   "language": "python",
   "name": "python3"
  },
  "language_info": {
   "codemirror_mode": {
    "name": "ipython",
    "version": 3
   },
   "file_extension": ".py",
   "mimetype": "text/x-python",
   "name": "python",
   "nbconvert_exporter": "python",
   "pygments_lexer": "ipython3",
   "version": "3.10.9"
  }
 },
 "nbformat": 4,
 "nbformat_minor": 5
}
