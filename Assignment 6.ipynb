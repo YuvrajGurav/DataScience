{
 "cells": [
  {
   "cell_type": "markdown",
   "id": "ec56b760",
   "metadata": {},
   "source": [
    "Q.1. What are keywords in python? Using the keyword library, print all the python keywords.\n",
    "\n",
    "Ans : Keywords in Python are reserved words that can not be used as a variable name, function name, or any other identifier."
   ]
  },
  {
   "cell_type": "code",
   "execution_count": 1,
   "id": "01719f48",
   "metadata": {},
   "outputs": [
    {
     "name": "stdout",
     "output_type": "stream",
     "text": [
      "The list of keywords is : \n",
      "['False', 'None', 'True', 'and', 'as', 'assert', 'async', 'await', 'break', 'class', 'continue', 'def', 'del', 'elif', 'else', 'except', 'finally', 'for', 'from', 'global', 'if', 'import', 'in', 'is', 'lambda', 'nonlocal', 'not', 'or', 'pass', 'raise', 'return', 'try', 'while', 'with', 'yield']\n"
     ]
    }
   ],
   "source": [
    "import keyword\n",
    "\n",
    "print(\"The list of keywords is : \")\n",
    "print(keyword.kwlist)"
   ]
  },
  {
   "cell_type": "markdown",
   "id": "59a54dc2",
   "metadata": {},
   "source": [
    "Q.2. What are the rules to create variables in python?"
   ]
  },
  {
   "cell_type": "code",
   "execution_count": 4,
   "id": "9dc9a69c",
   "metadata": {
    "scrolled": true
   },
   "outputs": [
    {
     "data": {
      "text/plain": [
       "'  A variable name must start with a letter or the underscore character,\\n     A variable name cannot start with a number,\\n     A variable name can only contain alpha-numeric characters and underscores (A-z, 0-9, and _ ),\\n     Variable names are case-sensitive (age, Age and AGE are three different variables),\\n     A variable name cannot be any of the Python keywords.'"
      ]
     },
     "execution_count": 4,
     "metadata": {},
     "output_type": "execute_result"
    }
   ],
   "source": [
    "\"\"\"  A variable name must start with a letter or the underscore character,\n",
    "     A variable name cannot start with a number,\n",
    "     A variable name can only contain alpha-numeric characters and underscores (A-z, 0-9, and _ ),\n",
    "     Variable names are case-sensitive (age, Age and AGE are three different variables),\n",
    "     A variable name cannot be any of the Python keywords.\"\"\""
   ]
  },
  {
   "cell_type": "markdown",
   "id": "fcf28b38",
   "metadata": {},
   "source": [
    "Q.3. What are the standards and conventions followed for the nomenclature of variables in\n",
    "python to improve code readability and maintainability?"
   ]
  },
  {
   "cell_type": "code",
   "execution_count": 5,
   "id": "3f83e1b2",
   "metadata": {},
   "outputs": [
    {
     "data": {
      "text/plain": [
       "\"Use descriptive names: Choose variable names that are meaningful and describe their purpose or the data they store.\\nThis helps in understanding the code's intent and makes it easier for others (and your future self) to read and maintain the \\ncode.\\n\\nUse lowercase letters: Variable names in Python are typically written in lowercase letters. If a variable name consists of \\nmultiple words, separate them with underscores. For example: my_variable, total_count, first_name.\\n    \\nAvoid using single characters: While it's technically allowed to use single-letter variable names, it's generally better to \\nuse more descriptive names that convey the purpose of the variable.(in lops we use it for more clarity of code flow)\\n\\nConsistent with naming style: Stick to a consistent naming style throughout your codebase.\\n\\nAvoid using reserved keywords:NOt use reserved words as varible names.\\n\\nUse meaningful abbreviations: If you need to use abbreviations, ensure they are widely understood and make the \\ncode more readable.\""
      ]
     },
     "execution_count": 5,
     "metadata": {},
     "output_type": "execute_result"
    }
   ],
   "source": [
    "\"\"\"Use descriptive names: Choose variable names that are meaningful and describe their purpose or the data they store.\n",
    "This helps in understanding the code's intent and makes it easier for others (and your future self) to read and maintain the \n",
    "code.\n",
    "\n",
    "Use lowercase letters: Variable names in Python are typically written in lowercase letters. If a variable name consists of \n",
    "multiple words, separate them with underscores. For example: my_variable, total_count, first_name.\n",
    "    \n",
    "Avoid using single characters: While it's technically allowed to use single-letter variable names, it's generally better to \n",
    "use more descriptive names that convey the purpose of the variable.(in lops we use it for more clarity of code flow)\n",
    "\n",
    "Consistent with naming style: Stick to a consistent naming style throughout your codebase.\n",
    "\n",
    "Avoid using reserved keywords:NOt use reserved words as varible names.\n",
    "\n",
    "Use meaningful abbreviations: If you need to use abbreviations, ensure they are widely understood and make the \n",
    "code more readable.\"\"\""
   ]
  },
  {
   "cell_type": "markdown",
   "id": "1e423ff5",
   "metadata": {},
   "source": [
    "Q.4. What will happen if a keyword is used as a variable name?"
   ]
  },
  {
   "cell_type": "code",
   "execution_count": 8,
   "id": "2d705b5b",
   "metadata": {
    "scrolled": false
   },
   "outputs": [
    {
     "ename": "SyntaxError",
     "evalue": "invalid syntax (2190979267.py, line 3)",
     "output_type": "error",
     "traceback": [
      "\u001b[1;36m  Cell \u001b[1;32mIn[8], line 3\u001b[1;36m\u001b[0m\n\u001b[1;33m    if = 10\u001b[0m\n\u001b[1;37m       ^\u001b[0m\n\u001b[1;31mSyntaxError\u001b[0m\u001b[1;31m:\u001b[0m invalid syntax\n"
     ]
    }
   ],
   "source": [
    "#lets try to use a keyword as a variable\n",
    "if = 10"
   ]
  },
  {
   "cell_type": "markdown",
   "id": "164f0721",
   "metadata": {},
   "source": [
    "print('it will throw invalid syntax error')"
   ]
  },
  {
   "cell_type": "markdown",
   "id": "574be60b",
   "metadata": {},
   "source": [
    "Q.5. For what purpose def keyword is used?"
   ]
  },
  {
   "cell_type": "markdown",
   "id": "837baa6e",
   "metadata": {},
   "source": [
    "Ans : def keyword is used to define a function. It is an essential keyword for function declaration and is used to create user-defined functions that perform specific tasks. for example"
   ]
  },
  {
   "cell_type": "code",
   "execution_count": 10,
   "id": "afd5b31c",
   "metadata": {},
   "outputs": [
    {
     "data": {
      "text/plain": [
       "'Hello, Have a nice day'"
      ]
     },
     "execution_count": 10,
     "metadata": {},
     "output_type": "execute_result"
    }
   ],
   "source": [
    "def Greetings():\n",
    "    return 'Hello, Have a nice day'\n",
    "\n",
    "Greetings()"
   ]
  },
  {
   "cell_type": "markdown",
   "id": "7fd8e0b6",
   "metadata": {},
   "source": [
    "Q.6. What is the operation of this special character ‘\\’?"
   ]
  },
  {
   "cell_type": "markdown",
   "id": "6aa24773",
   "metadata": {},
   "source": [
    "The special character '\\' in Python is called the backslash. It has several uses and serves as an escape character, indicating that the character following it has a special meaning.\n",
    "\n",
    "Use:\n",
    "\n",
    "'\\n' represents a newline character. '\\t' represents a tab character. '' represents a literal backslash character."
   ]
  },
  {
   "cell_type": "markdown",
   "id": "82c39059",
   "metadata": {},
   "source": [
    "Q.7. Give an example of the following conditions:\n",
    "(i) Homogeneous list\n",
    "(ii) Heterogeneous set\n",
    "(iii) Homogeneous tuple"
   ]
  },
  {
   "cell_type": "code",
   "execution_count": 12,
   "id": "23e9d7b2",
   "metadata": {},
   "outputs": [
    {
     "name": "stdout",
     "output_type": "stream",
     "text": [
      "['apple', 'banana', 'cherry']\n",
      "{'cherry', 18, 'apple', 22.5}\n",
      "(1, 2, 3, 4, 5)\n"
     ]
    }
   ],
   "source": [
    "#Homogeneous list A list can contain elements of same  types: integers, floats, strings, and even other lists or tuples.\n",
    "_list = [\"apple\", \"banana\", \"cherry\"]\n",
    "print(fruits)\n",
    "\n",
    "# Heterogeneous set can also contain elements of different types: integers, floats, strings, and even other tuples or lists.\n",
    "_set = {\"apple\", 18, 22.5,\"cherry\"}\n",
    "print(_set)\n",
    "\n",
    "# Homogeneous tuple\n",
    "_tuple = (1, 2, 3, 4, 5)\n",
    "print(_tuple)"
   ]
  },
  {
   "cell_type": "markdown",
   "id": "fa6205bf",
   "metadata": {},
   "source": [
    "Q.8. Explain the mutable and immutable data types with proper explanation & examples"
   ]
  },
  {
   "cell_type": "markdown",
   "id": "e829ccf1",
   "metadata": {},
   "source": [
    "Mutable Data Type: A mutable data type is one where the value or contents of the object can be modified after it is created. This means that we can change individual elements, add or remove elements, or modify the state of the object without creating a new object. In Python, some examples of mutable data types are lists, dictionaries, sets.\n",
    "\n",
    "Immutable Data Type: An immutable data type is one where the value or contents of the object cannot be modified after it is created. This means that once the object is assigned a value, it cannot be changed. In Python, some examples of immutable data types are numbers (integers, floats, etc.), strings, tuples."
   ]
  },
  {
   "cell_type": "code",
   "execution_count": 13,
   "id": "6a8d11de",
   "metadata": {},
   "outputs": [
    {
     "name": "stdout",
     "output_type": "stream",
     "text": [
      "{1, 2, 3, 4}\n",
      "{1, 2, 3, 4, 5}\n",
      "{1, 3, 4, 5}\n"
     ]
    }
   ],
   "source": [
    "#Mutable set\n",
    "my_set = {1, 2, 3, 4}  # Set\n",
    "print(my_set)  # Output: {1, 2, 3, 4}\n",
    "\n",
    "my_set.add(5)  # Adding an element to the set\n",
    "print(my_set)  # Output: {1, 2, 3, 4, 5}\n",
    "\n",
    "my_set.remove(2)  # Removing an element from the set\n",
    "print(my_set)  # Output: {1, 3, 4, 5}"
   ]
  },
  {
   "cell_type": "code",
   "execution_count": 14,
   "id": "75c6c9ef",
   "metadata": {},
   "outputs": [
    {
     "name": "stdout",
     "output_type": "stream",
     "text": [
      "(1, 2, 3, 4)\n"
     ]
    },
    {
     "ename": "TypeError",
     "evalue": "'tuple' object does not support item assignment",
     "output_type": "error",
     "traceback": [
      "\u001b[1;31m---------------------------------------------------------------------------\u001b[0m",
      "\u001b[1;31mTypeError\u001b[0m                                 Traceback (most recent call last)",
      "Cell \u001b[1;32mIn[14], line 6\u001b[0m\n\u001b[0;32m      3\u001b[0m my_tuple \u001b[38;5;241m=\u001b[39m (\u001b[38;5;241m1\u001b[39m, \u001b[38;5;241m2\u001b[39m, \u001b[38;5;241m3\u001b[39m, \u001b[38;5;241m4\u001b[39m)  \u001b[38;5;66;03m# Tuple\u001b[39;00m\n\u001b[0;32m      4\u001b[0m \u001b[38;5;28mprint\u001b[39m(my_tuple)  \u001b[38;5;66;03m# Output: (1, 2, 3, 4)\u001b[39;00m\n\u001b[1;32m----> 6\u001b[0m my_tuple[\u001b[38;5;241m2\u001b[39m] \u001b[38;5;241m=\u001b[39m \u001b[38;5;241m5\u001b[39m\n",
      "\u001b[1;31mTypeError\u001b[0m: 'tuple' object does not support item assignment"
     ]
    }
   ],
   "source": [
    "#Immutable TUPLE\n",
    "\n",
    "my_tuple = (1, 2, 3, 4)  # Tuple\n",
    "print(my_tuple)  # Output: (1, 2, 3, 4)\n",
    "\n",
    "my_tuple[2] = 5  # Attempting to modify a tuple (results in an error)"
   ]
  },
  {
   "cell_type": "markdown",
   "id": "c4615c67",
   "metadata": {},
   "source": [
    "Q.9. Write a code to create the given structure using only for loop."
   ]
  },
  {
   "cell_type": "code",
   "execution_count": 18,
   "id": "5c891d34",
   "metadata": {},
   "outputs": [
    {
     "name": "stdout",
     "output_type": "stream",
     "text": [
      "          * \n",
      "        * * * \n",
      "      * * * * * \n",
      "    * * * * * * * \n",
      "  * * * * * * * * * \n"
     ]
    }
   ],
   "source": [
    "n=5\n",
    "for rows in range(n):\n",
    "    for cols in range(rows,n):\n",
    "        print(\" \", end=\" \")\n",
    "    for cols in range(rows+1):\n",
    "        print(\"*\", end=\" \")\n",
    "    for cols in range(rows):\n",
    "        print(\"*\", end=\" \")\n",
    "    print()"
   ]
  },
  {
   "cell_type": "markdown",
   "id": "09b39be9",
   "metadata": {},
   "source": [
    "Q.10. Write a code to create the given structure using while loop."
   ]
  },
  {
   "cell_type": "code",
   "execution_count": 19,
   "id": "fcbd74c8",
   "metadata": {},
   "outputs": [
    {
     "name": "stdout",
     "output_type": "stream",
     "text": [
      "  | | | | | | | | | \n",
      "    | | | | | | | \n",
      "      | | | | | \n",
      "        | | | \n",
      "          | \n"
     ]
    }
   ],
   "source": [
    "n=5\n",
    "for rows in range(n):\n",
    "    for cols in range(rows+1):\n",
    "        print(\" \", end=\" \")\n",
    "    for cols in range(rows,n-1): \n",
    "        print(\"|\", end=\" \")\n",
    "    for cols in range(rows,n): \n",
    "        print(\"|\", end=\" \")\n",
    "    print()"
   ]
  }
 ],
 "metadata": {
  "kernelspec": {
   "display_name": "Python 3 (ipykernel)",
   "language": "python",
   "name": "python3"
  },
  "language_info": {
   "codemirror_mode": {
    "name": "ipython",
    "version": 3
   },
   "file_extension": ".py",
   "mimetype": "text/x-python",
   "name": "python",
   "nbconvert_exporter": "python",
   "pygments_lexer": "ipython3",
   "version": "3.10.9"
  }
 },
 "nbformat": 4,
 "nbformat_minor": 5
}
