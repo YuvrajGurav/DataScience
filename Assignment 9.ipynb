{
 "cells": [
  {
   "cell_type": "markdown",
   "id": "17f32ecb",
   "metadata": {},
   "source": [
    "Q 1)What is a lambda function in Python, and how does it differ from a regular function?"
   ]
  },
  {
   "cell_type": "markdown",
   "id": "d4e51f8d",
   "metadata": {},
   "source": [
    "a lambda function is a small anonymous function that can be defined inline without using the def keyword. It is also known as an anonymous function because it doesn't require a formal name. The lambda function is created using the lambda keyword, followed by a list of arguments, a colon (:), and an expression. The general syntax of a lambda function is as follows:\n",
    "sum_lambda = lambda x, y: x + y\n"
   ]
  },
  {
   "cell_type": "markdown",
   "id": "35b0e2e4",
   "metadata": {},
   "source": [
    "Lambda functions have a few distinguishing characteristics compared to regular functions:\n",
    "\n",
    "Anonymous: Lambda functions are anonymous, meaning they don't have a specific name associated with them. They are defined inline wherever they are needed.\n",
    "\n",
    "Concise syntax: Lambda functions have a compact syntax that allows you to define simple functions in a single line. This can be convenient when you need a function for a short-lived purpose.\n",
    "\n",
    "Single expression: Lambda functions are limited to a single expression. The expression is evaluated and its result is returned automatically without needing an explicit return statement.\n",
    "\n",
    "Lambda functions are commonly used in Python for simple one-liner functions, especially in scenarios where a function is needed as an argument to another function (e.g., in higher-order functions like map(), filter(), and reduce()). However, for more complex logic or functions that need to be reused, it is generally recommended to use regular named functions for better readability and maintainability."
   ]
  },
  {
   "cell_type": "markdown",
   "id": "5006d4bc",
   "metadata": {},
   "source": [
    "Q 2) Can a lambda function in Python have multiple arguments? If yes, how can you define and use\n",
    "them?"
   ]
  },
  {
   "cell_type": "markdown",
   "id": "3d183b7e",
   "metadata": {},
   "source": [
    "Yes, a lambda function in Python can have multiple arguments. When defining a lambda function, you can specify multiple arguments separated by commas, just like in a regular function. "
   ]
  },
  {
   "cell_type": "code",
   "execution_count": 6,
   "id": "c5614bdc",
   "metadata": {},
   "outputs": [],
   "source": [
    "sum_lambda = lambda x, y, z: x + y + z"
   ]
  },
  {
   "cell_type": "code",
   "execution_count": 7,
   "id": "ef731c97",
   "metadata": {},
   "outputs": [
    {
     "name": "stdout",
     "output_type": "stream",
     "text": [
      "12\n"
     ]
    }
   ],
   "source": [
    "result = sum_lambda(2, 4, 6)\n",
    "print(result)  # Output: 12"
   ]
  },
  {
   "cell_type": "markdown",
   "id": "b87b3eb9",
   "metadata": {},
   "source": [
    "Q 3)How are lambda functions typically used in Python? Provide an example use case.\n"
   ]
  },
  {
   "cell_type": "markdown",
   "id": "990101a3",
   "metadata": {},
   "source": [
    "Lambda functions in Python are commonly used in scenarios where a small, short-lived function is needed, especially as arguments to other functions"
   ]
  },
  {
   "cell_type": "markdown",
   "id": "1978d7d7",
   "metadata": {},
   "source": [
    "Higher-order functions: Lambda functions are frequently used with higher-order functions such as map(), filter(), and reduce(). These functions expect a function as one of their arguments, and lambda functions offer a concise way to define simple functions on the fly. For instance, you can use a lambda function to double each element in a list using map():"
   ]
  },
  {
   "cell_type": "code",
   "execution_count": 10,
   "id": "8a57dcc0",
   "metadata": {},
   "outputs": [
    {
     "name": "stdout",
     "output_type": "stream",
     "text": [
      "[2, 4, 6, 8, 10]\n"
     ]
    }
   ],
   "source": [
    "numbers = [1, 2, 3, 4, 5]\n",
    "doubled_numbers = list(map(lambda x: x * 2, numbers))\n",
    "print(doubled_numbers)  # Output: [2, 4, 6, 8, 10]"
   ]
  },
  {
   "cell_type": "markdown",
   "id": "7fc648a7",
   "metadata": {},
   "source": [
    "Sorting: Lambda functions are often used as key functions for sorting elements based on specific criteria. The lambda function defines the sorting key based on which the elements will be sorted. Here's an example that sorts a list of tuples based on the second element"
   ]
  },
  {
   "cell_type": "code",
   "execution_count": 12,
   "id": "60281512",
   "metadata": {},
   "outputs": [
    {
     "name": "stdout",
     "output_type": "stream",
     "text": [
      "[('Bob', 18), ('Alice', 25), ('Charlie', 30)]\n"
     ]
    }
   ],
   "source": [
    "people = [(\"Alice\", 25), (\"Bob\", 18), (\"Charlie\", 30)]\n",
    "sorted_people = sorted(people, key=lambda x: x[1])\n",
    "print(sorted_people)\n",
    "\n"
   ]
  },
  {
   "cell_type": "markdown",
   "id": "5d7e0f57",
   "metadata": {},
   "source": [
    "Q 4) What are the advantages and limitations of lambda functions compared to regular functions in\n",
    "Python?\n"
   ]
  },
  {
   "cell_type": "markdown",
   "id": "06e9b5b3",
   "metadata": {},
   "source": [
    "Advantages of Lambda Functions:\n",
    "\n",
    "Concise Syntax: Lambda functions allow you to define simple functions in a single line of code. This can make the code more compact and easier to read, especially for small, one-off functions.\n",
    "\n",
    "Anonymous: Lambda functions are anonymous functions that don't require a specific name. They can be defined inline wherever they are needed, eliminating the need for defining separate function names.\n",
    "\n",
    "First-class Objects: Lambda functions are first-class objects in Python. This means they can be assigned to variables, stored in data structures, and passed as arguments to other functions, just like regular functions. This flexibility is particularly useful in scenarios where functions need to be used as arguments or returned as values.\n",
    "\n",
    "Lexical Scoping: Lambda functions can access variables from the enclosing scope (lexical scoping). This allows them to capture and use values from the surrounding context, making them versatile in functional programming paradigms.\n",
    "\n",
    "Limitations of Lambda Functions:\n",
    "\n",
    "Single Expression: Lambda functions are limited to a single expression. They can't contain multiple statements or complex logic. This limitation makes them unsuitable for functions that require more elaborate control flow or multiple actions.\n",
    "\n",
    "Limited Readability: While lambda functions can be concise, they can also become difficult to read and understand if they become too complex. Regular functions with descriptive names often provide better readability and maintainability, especially for larger or reusable code blocks.\n",
    "\n",
    "Lack of Documentation: Lambda functions do not support docstrings, which are commonly used for documenting functions. This can make it harder to understand the purpose and behavior of a lambda function, especially for other developers who might need to work with the code.\n",
    "\n",
    "Reduced Reusability: Lambda functions are typically used for short-lived, one-off purposes and are not intended for reuse in multiple places. If a function is needed in multiple contexts or requires more complex logic, it is generally better to use a regular named function for better code organization and reusability."
   ]
  },
  {
   "cell_type": "markdown",
   "id": "6ea2f4fa",
   "metadata": {},
   "source": [
    "Q 5)Are lambda functions in Python able to access variables defined outside of their own scope?\n",
    "Explain with an example"
   ]
  },
  {
   "cell_type": "markdown",
   "id": "8a8f0095",
   "metadata": {},
   "source": [
    "Yes, lambda functions in Python can access variables defined outside of their own scope. This behavior is known as lexical scoping, where variables are resolved based on their location in the source code"
   ]
  },
  {
   "cell_type": "code",
   "execution_count": 13,
   "id": "ea3d891a",
   "metadata": {},
   "outputs": [
    {
     "name": "stdout",
     "output_type": "stream",
     "text": [
      "15\n"
     ]
    }
   ],
   "source": [
    "def outer_function():\n",
    "    x = 10\n",
    "    lambda_func = lambda y: x + y\n",
    "    return lambda_func\n",
    "\n",
    "result = outer_function()\n",
    "print(result(5)) "
   ]
  },
  {
   "cell_type": "markdown",
   "id": "caa89f0b",
   "metadata": {},
   "source": [
    "Q 6) Write a lambda function to calculate the square of a given number."
   ]
  },
  {
   "cell_type": "code",
   "execution_count": 16,
   "id": "89f36c91",
   "metadata": {},
   "outputs": [
    {
     "name": "stdout",
     "output_type": "stream",
     "text": [
      "25\n"
     ]
    }
   ],
   "source": [
    "square = lambda x: x**2\n",
    "result = square(5)\n",
    "print(result)"
   ]
  },
  {
   "cell_type": "markdown",
   "id": "52f64325",
   "metadata": {},
   "source": [
    "Q 7) Create a lambda function to find the maximum value in a list of integers."
   ]
  },
  {
   "cell_type": "code",
   "execution_count": 20,
   "id": "3c1e7ae9",
   "metadata": {},
   "outputs": [
    {
     "name": "stdout",
     "output_type": "stream",
     "text": [
      "15\n"
     ]
    }
   ],
   "source": [
    "find_max = lambda lst: max(lst)\n",
    "numbers = [10, 5, 7, 15, 3]\n",
    "result = find_max(numbers)\n",
    "print(result) "
   ]
  },
  {
   "cell_type": "markdown",
   "id": "838dbd00",
   "metadata": {},
   "source": [
    "Q 8)Implement a lambda function to filter out all the even numbers from a list of integers."
   ]
  },
  {
   "cell_type": "code",
   "execution_count": 21,
   "id": "3f754237",
   "metadata": {},
   "outputs": [
    {
     "name": "stdout",
     "output_type": "stream",
     "text": [
      "[2, 4, 6, 8, 10]\n"
     ]
    }
   ],
   "source": [
    "filter_even = lambda lst: [x for x in lst if x % 2 == 0]\n",
    "numbers = [1, 2, 3, 4, 5, 6, 7, 8, 9, 10]\n",
    "result = filter_even(numbers)\n",
    "print(result)  # Output: [2, 4, 6, 8, 10]"
   ]
  },
  {
   "cell_type": "markdown",
   "id": "030595a2",
   "metadata": {},
   "source": [
    "Q 9) Write a lambda function to sort a list of strings in ascending order based on the length of each\n",
    "string."
   ]
  },
  {
   "cell_type": "code",
   "execution_count": 23,
   "id": "f637753b",
   "metadata": {},
   "outputs": [
    {
     "name": "stdout",
     "output_type": "stream",
     "text": [
      "['kiwi', 'pear', 'apple', 'banana', 'orange']\n"
     ]
    }
   ],
   "source": [
    "sort_by_length = lambda lst: sorted(lst, key=lambda x: len(x))\n",
    "strings = [\"apple\", \"banana\", \"orange\", \"kiwi\", \"pear\"]\n",
    "result = sort_by_length(strings)\n",
    "print(result) \n",
    "\n"
   ]
  },
  {
   "cell_type": "markdown",
   "id": "31cbaaf8",
   "metadata": {},
   "source": [
    "Q 10) Create a lambda function that takes two lists as input and returns a new list containing the\n",
    "common elements between the two lists."
   ]
  },
  {
   "cell_type": "code",
   "execution_count": 24,
   "id": "2998c4d0",
   "metadata": {},
   "outputs": [
    {
     "name": "stdout",
     "output_type": "stream",
     "text": [
      "[4, 5]\n"
     ]
    }
   ],
   "source": [
    "find_common_elements = lambda list1, list2: [x for x in list1 if x in list2]\n",
    "list1 = [1, 2, 3, 4, 5]\n",
    "list2 = [4, 5, 6, 7, 8]\n",
    "result = find_common_elements(list1, list2)\n",
    "print(result) \n"
   ]
  },
  {
   "cell_type": "markdown",
   "id": "9ecdedfd",
   "metadata": {},
   "source": [
    "Q 11) Write a recursive function to calculate the factorial of a given positive integer"
   ]
  },
  {
   "cell_type": "code",
   "execution_count": 29,
   "id": "8670edb3",
   "metadata": {},
   "outputs": [
    {
     "name": "stdout",
     "output_type": "stream",
     "text": [
      "120\n"
     ]
    }
   ],
   "source": [
    "def factorial(n):\n",
    "    if n < 0:\n",
    "        return None\n",
    "    elif n == 0 or n == 1:\n",
    "        return 1\n",
    "    else:\n",
    "        return n * factorial(n - 1)\n",
    "\n",
    "n = 5\n",
    "result = factorial(n)\n",
    "print(result)"
   ]
  },
  {
   "cell_type": "markdown",
   "id": "92e6ddee",
   "metadata": {},
   "source": [
    "Q 12)Implement a recursive function to compute the nth Fibonacci number.\n"
   ]
  },
  {
   "cell_type": "code",
   "execution_count": 27,
   "id": "5f66c9dc",
   "metadata": {},
   "outputs": [
    {
     "name": "stdout",
     "output_type": "stream",
     "text": [
      "5\n"
     ]
    }
   ],
   "source": [
    "def fibonacci(n):\n",
    "    if n <= 0:\n",
    "        return None\n",
    "    elif n == 1 or n == 2:\n",
    "        return n - 1\n",
    "    else:\n",
    "        return fibonacci(n - 1) + fibonacci(n - 2)\n",
    "n = 6\n",
    "result = fibonacci(n)\n",
    "print(result)\n"
   ]
  },
  {
   "cell_type": "markdown",
   "id": "b789beff",
   "metadata": {},
   "source": [
    "Q 13) Create a recursive function to find the sum of all the elements in a given list"
   ]
  },
  {
   "cell_type": "code",
   "execution_count": 31,
   "id": "135f3020",
   "metadata": {},
   "outputs": [
    {
     "name": "stdout",
     "output_type": "stream",
     "text": [
      "15\n"
     ]
    }
   ],
   "source": [
    "def sum_list(lst):\n",
    "    if not lst:\n",
    "        return 0\n",
    "    else:\n",
    "        return lst[0] + sum_list(lst[1:])\n",
    "numbers = [1, 2, 3, 4, 5]\n",
    "result = sum_list(numbers)\n",
    "print(result)\n"
   ]
  },
  {
   "cell_type": "markdown",
   "id": "95d49af6",
   "metadata": {},
   "source": [
    "Q 14) Write a recursive function to determine whether a given string is a palindrome."
   ]
  },
  {
   "cell_type": "code",
   "execution_count": 32,
   "id": "ab1852e3",
   "metadata": {},
   "outputs": [
    {
     "name": "stdout",
     "output_type": "stream",
     "text": [
      "True\n",
      "False\n"
     ]
    }
   ],
   "source": [
    "def is_palindrome(string):\n",
    "    if len(string) <= 1:\n",
    "        return True\n",
    "    elif string[0] == string[-1]:\n",
    "        return is_palindrome(string[1:-1])\n",
    "    else:\n",
    "        return False\n",
    "string1 = \"radar\"\n",
    "print(is_palindrome(string1))\n",
    "\n",
    "string2 = \"hello\"\n",
    "print(is_palindrome(string2))\n"
   ]
  },
  {
   "cell_type": "markdown",
   "id": "3693f37d",
   "metadata": {},
   "source": [
    "Q 15) Implement a recursive function to find the greatest common divisor (GCD) of two positive integers"
   ]
  },
  {
   "cell_type": "code",
   "execution_count": 1,
   "id": "ec359fb6",
   "metadata": {},
   "outputs": [
    {
     "name": "stdout",
     "output_type": "stream",
     "text": [
      "12\n"
     ]
    }
   ],
   "source": [
    "def gcd(a, b):\n",
    "    if b == 0:\n",
    "        return a\n",
    "    else:\n",
    "        return gcd(b, a % b)\n",
    "num1 = 48\n",
    "num2 = 36\n",
    "result = gcd(num1, num2)\n",
    "print(result)"
   ]
  }
 ],
 "metadata": {
  "kernelspec": {
   "display_name": "Python 3 (ipykernel)",
   "language": "python",
   "name": "python3"
  },
  "language_info": {
   "codemirror_mode": {
    "name": "ipython",
    "version": 3
   },
   "file_extension": ".py",
   "mimetype": "text/x-python",
   "name": "python",
   "nbconvert_exporter": "python",
   "pygments_lexer": "ipython3",
   "version": "3.10.9"
  }
 },
 "nbformat": 4,
 "nbformat_minor": 5
}
